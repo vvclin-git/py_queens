{
 "cells": [
  {
   "cell_type": "code",
   "execution_count": 1,
   "id": "df8a2181",
   "metadata": {},
   "outputs": [
    {
     "name": "stdout",
     "output_type": "stream",
     "text": [
      "pygame 2.6.1 (SDL 2.28.4, Python 3.11.0)\n",
      "Hello from the pygame community. https://www.pygame.org/contribute.html\n"
     ]
    }
   ],
   "source": [
    "import pygame\n",
    "\n",
    "import numpy as np\n",
    "from matplotlib.colors import ListedColormap\n",
    "import matplotlib.pyplot as plt\n",
    "from IPython.display import clear_output, display"
   ]
  },
  {
   "cell_type": "code",
   "execution_count": 105,
   "id": "72c920d6",
   "metadata": {},
   "outputs": [],
   "source": [
    "class Cell:\n",
    "    def __init__(self, group):\n",
    "        self.value = 0 # 0: empty, 1: placed, 2: occupied\n",
    "        self.group = group\n",
    "\n",
    "class Node:\n",
    "    def __init__(self, cell, board):\n",
    "        self.prev_node = None\n",
    "        self.next_nodes = []\n",
    "        self.cell = cell\n",
    "        self.board = board\n",
    "        pass\n",
    "\n",
    "class Board:\n",
    "    def __init__(self, group_map):\n",
    "        self.group_map = group_map  \n",
    "        self.num_groups = max(max(row) for row in self.group_map) + 1  # maximum value in loaded_board                          \n",
    "        self.shape = (len(self.group_map), len(self.group_map[0]))\n",
    "        self.grid = [[Cell(self.group_map[i][j]) for j in range(self.shape[1])] for i in range(self.shape[0])]\n",
    "        self.placed_cells = []\n",
    "        self.groups = [[] for i in range(self.num_groups)]\n",
    "        for i in range(self.num_groups):\n",
    "            self.groups[i] = []\n",
    "        # print(self.groups)\n",
    "        # print(len(self.groups))\n",
    "        for i in range(self.shape[0]):\n",
    "            for j in range(self.shape[1]):\n",
    "                # try:\n",
    "                self.groups[self.grid[i][j].group].append(self.grid[i][j])\n",
    "                # except:\n",
    "                #     print(i, j, self.grid[i][j].group)\n",
    "        \n",
    "        cmap_base = plt.get_cmap('gist_rainbow')\n",
    "        n_color = cmap_base.N\n",
    "        # Generate color indices for each value from 1 to N\n",
    "        color_indices = [(n_color / self.num_groups) * v for v in range(1, self.num_groups + 1)]\n",
    "        colors = [cmap_base(int(idx) % n_color) for idx in color_indices]\n",
    "        self.custom_cmap = ListedColormap(colors)\n",
    "\n",
    "        self.init_draw()\n",
    "        \n",
    "        return\n",
    "   \n",
    "    \n",
    "    def init_draw(self):\n",
    "        # N = max(max(row) for row in self.group_map) + 1  # maximum value in loaded_board                          \n",
    "        # self.shape = (len(self.group_map), len(self.group_map[0]))\n",
    "        # self.grid = [[Cell(self.group_map[i][j]) for j in range(self.shape[1])] for i in range(self.shape[0])]\n",
    "        # self.placed_cells = []\n",
    "        # self.groups = [[] for i in range(N)]\n",
    "        # for i in range(N):\n",
    "        #     self.groups[i] = []\n",
    "        # # print(self.groups)\n",
    "        # # print(len(self.groups))\n",
    "        # for i in range(self.shape[0]):\n",
    "        #     for j in range(self.shape[1]):\n",
    "        #         # try:\n",
    "        #         self.groups[self.grid[i][j].group].append(self.grid[i][j])\n",
    "        #         # except:\n",
    "        #         #     print(i, j, self.grid[i][j].group)\n",
    "        \n",
    "        # cmap_base = plt.get_cmap('gist_rainbow')\n",
    "        # n_color = cmap_base.N\n",
    "        # # Generate color indices for each value from 1 to N\n",
    "        # color_indices = [(n_color / self.num_groups) * v for v in range(1, self.num_groups + 1)]\n",
    "        # colors = [cmap_base(int(idx) % n_color) for idx in color_indices]\n",
    "        # custom_cmap = ListedColormap(colors)\n",
    "        fig, ax = plt.subplots()\n",
    "        plt.close(fig)\n",
    "        ax.pcolor(self.group_map, cmap=self.custom_cmap, edgecolors='k', linewidths=1)\n",
    "        ax.set_axis_off()\n",
    "        ax.invert_yaxis()\n",
    "        ax.set_aspect('equal')\n",
    "        self.ax = ax        \n",
    "        return \n",
    "    \n",
    "    def check(self):\n",
    "\n",
    "        pass\n",
    "    \n",
    "    def in_board(self, pos_in):\n",
    "        pos = (pos_in[1] - 1, pos_in[0] - 1)\n",
    "        return ((pos[0] >= 0  and pos[0] < self.shape[1]) and (pos[1] >= 0, pos[1] < self.shape[0]))\n",
    "\n",
    "    def place(self, pos_in):\n",
    "        pos = (pos_in[1] - 1, pos_in[0] - 1)\n",
    "        if (pos[0] < self.shape[1] and pos[1] < self.shape[0]) and (self.grid[pos[0]][pos[1]].value == 0):                     \n",
    "            # group occupation\n",
    "            for c in self.groups[self.grid[pos[0]][pos[1]].group]:\n",
    "                c.value = 2\n",
    "            # neighborhood occupation\n",
    "            for shift_x in (-1, 1):\n",
    "                for shift_y in (-1, 1):\n",
    "                    pos_shift = (pos[0] + shift_y, pos[1] + shift_x)\n",
    "                    if (pos_shift[0] >= 0 and pos_shift[0] < self.shape[1]) and (pos_shift[1] >= 0 and pos_shift[1] < self.shape[0]):\n",
    "                        self.grid[pos_shift[0]][pos_shift[1]].value = 2\n",
    "            # line occupation\n",
    "            # horizontal\n",
    "            for c in self.grid[pos[0]]:\n",
    "                c.value = 2\n",
    "            # vertical\n",
    "            for r in self.grid:\n",
    "                r[pos[1]].value = 2\n",
    "            # cell placement\n",
    "            self.grid[pos[0]][pos[1]].value = 1            \n",
    "            self.placed_cells.append(self.grid[pos[0]][pos[1]])\n",
    "        pass\n",
    "\n",
    "    def remove(self, pos_in):\n",
    "        pos = (pos_in[1] - 1, pos_in[0] - 1)\n",
    "        if self.grid[pos[0]][pos[1]].value == 1:\n",
    "            if pos[0] < self.shape[1] and pos[1] < self.shape[0]:                     \n",
    "                # remove group occupation\n",
    "                for c in self.groups[self.grid[pos[0]][pos[1]].group]:\n",
    "                    c.value = 0\n",
    "                # remove neighborhood occupation\n",
    "                for shift_x in (-1, 1):\n",
    "                    for shift_y in (-1, 1):\n",
    "                        pos_shift = (pos[0] + shift_y, pos[1] + shift_x)\n",
    "                        if (pos_shift[0] >= 0 and pos_shift[0] < self.shape[1]) and (pos_shift[1] >= 0 and pos_shift[1] < self.shape[0]):\n",
    "                            self.grid[pos_shift[0]][pos_shift[1]].value = 0\n",
    "                # line occupation\n",
    "                # horizontal\n",
    "                for c in self.grid[pos[0]]:\n",
    "                    c.value = 0\n",
    "                # vertical\n",
    "                for r in self.grid:\n",
    "                    r[pos[1]].value = 0\n",
    "                # cell placement\n",
    "                # self.grid[pos[0]][pos[1]].value = 1            \n",
    "                self.placed_cells.remove(self.grid[pos[0]][pos[1]])\n",
    "        pass\n",
    "\n",
    "    def update(self):\n",
    "        pass\n",
    "    \n",
    "    def draw(self):\n",
    "        # plt.clf()\n",
    "        clear_output(wait=True)\n",
    "        self.init_draw()\n",
    "        for i in range(self.shape[0]):\n",
    "            for j in range(self.shape[1]):\n",
    "                if self.grid[i][j].value == 1:                    \n",
    "                    self.ax.plot(j + 0.5, i + 0.5, marker='o', markersize=12, markeredgecolor='black', markerfacecolor='yellow')\n",
    "                elif self.grid[i][j].value == 2:\n",
    "                    self.ax.plot(j + 0.5, i + 0.5, marker='x', markersize=12, markeredgecolor='black', markerfacecolor='black')\n",
    "         \n",
    "        display(self.ax.figure)\n",
    "        pass\n",
    "\n",
    "    def dump(self):\n",
    "        output = [[[] for j in range(self.shape[1])] for i in range(self.shape[0])]\n",
    "        for i, r in enumerate(self.grid):            \n",
    "            for j, c in enumerate(r):\n",
    "                output[i][j] = c.value\n",
    "        return output\n",
    "        \n",
    "\n",
    "    "
   ]
  },
  {
   "cell_type": "code",
   "execution_count": 84,
   "id": "f001a321",
   "metadata": {},
   "outputs": [
    {
     "name": "stdout",
     "output_type": "stream",
     "text": [
      "['b']\n"
     ]
    }
   ],
   "source": [
    "a = 'a'\n",
    "b = 'b'\n",
    "c = [a, b]\n",
    "c.remove(a)\n",
    "print(c)"
   ]
  },
  {
   "cell_type": "code",
   "execution_count": 4,
   "id": "2642ce93",
   "metadata": {},
   "outputs": [
    {
     "name": "stdout",
     "output_type": "stream",
     "text": [
      "[[0, 0, 0, 0, 0, 0, 1, 1], [0, 0, 0, 0, 0, 2, 2, 2], [0, 0, 0, 0, 3, 2, 2, 2], [0, 4, 5, 5, 2, 2, 2, 2], [0, 5, 5, 5, 5, 2, 2, 2], [5, 5, 5, 6, 6, 6, 6, 6], [6, 6, 6, 6, 6, 6, 7, 7], [6, 6, 6, 6, 6, 6, 6, 6]]\n"
     ]
    }
   ],
   "source": [
    "import json\n",
    "with open('test_board.json', 'r') as f:\n",
    "    loaded_board = json.load(f)\n",
    "\n",
    "print(loaded_board)"
   ]
  },
  {
   "cell_type": "code",
   "execution_count": 106,
   "id": "2e7a4ac2",
   "metadata": {},
   "outputs": [
    {
     "data": {
      "image/png": "[encoded data removed]",
      "text/plain": [
       "<Figure size 640x480 with 1 Axes>"
      ]
     },
     "metadata": {},
     "output_type": "display_data"
    }
   ],
   "source": [
    "board = Board(loaded_board)\n",
    "\n",
    "board.place((2, 2))\n",
    "board.place((7, 7))\n",
    "# for c in board.groups[7]:\n",
    "#     c.value = 2\n",
    "board.draw()"
   ]
  },
  {
   "cell_type": "code",
   "execution_count": 95,
   "id": "eb9377c8",
   "metadata": {},
   "outputs": [
    {
     "data": {
      "text/plain": [
       "[[2, 2, 2, 2, 2, 2, 2, 0],\n",
       " [2, 1, 2, 2, 2, 2, 2, 2],\n",
       " [2, 2, 2, 2, 0, 0, 2, 0],\n",
       " [2, 2, 0, 0, 0, 0, 2, 0],\n",
       " [2, 2, 0, 0, 0, 0, 2, 0],\n",
       " [0, 2, 0, 0, 0, 2, 2, 2],\n",
       " [2, 2, 2, 2, 2, 2, 1, 2],\n",
       " [0, 2, 0, 0, 0, 2, 2, 2]]"
      ]
     },
     "execution_count": 95,
     "metadata": {},
     "output_type": "execute_result"
    }
   ],
   "source": [
    "board.dump()"
   ]
  },
  {
   "cell_type": "code",
   "execution_count": 101,
   "id": "c4ac6b9d",
   "metadata": {},
   "outputs": [
    {
     "data": {
      "image/png": "[encoded data removed]",
      "text/plain": [
       "<Figure size 640x480 with 1 Axes>"
      ]
     },
     "metadata": {},
     "output_type": "display_data"
    }
   ],
   "source": [
    "board.remove((2, 2))\n",
    "board.dump()\n",
    "board.draw()"
   ]
  },
  {
   "cell_type": "code",
   "execution_count": 107,
   "id": "78e411b4",
   "metadata": {},
   "outputs": [
    {
     "data": {
      "text/plain": [
       "(True, True)"
      ]
     },
     "execution_count": 107,
     "metadata": {},
     "output_type": "execute_result"
    }
   ],
   "source": [
    "board.in_board((1, 3))"
   ]
  },
  {
   "cell_type": "code",
   "execution_count": null,
   "id": "86c35dc4",
   "metadata": {},
   "outputs": [
    {
     "data": {
      "image/png": "[encoded data removed]",
      "text/plain": [
       "<Figure size 640x480 with 1 Axes>"
      ]
     },
     "metadata": {},
     "output_type": "display_data"
    }
   ],
   "source": [
    "import numpy as np\n",
    "from matplotlib.colors import ListedColormap\n",
    "import matplotlib.pyplot as plt\n",
    "\n",
    "N = max(max(row) for row in loaded_board)  # maximum value in loaded_board\n",
    "cmap_base = plt.get_cmap('gist_rainbow')\n",
    "n_color = cmap_base.N\n",
    "\n",
    "# Generate color indices for each value from 1 to N\n",
    "color_indices = [(n_color / N) * v for v in range(1, N + 1)]\n",
    "colors = [cmap_base(int(idx) % n_color) for idx in color_indices]\n",
    "\n",
    "# Add color for 0 if needed (e.g., white or transparent)\n",
    "# colors = [(1, 1, 1, 1)] + colors  # white for 0\n",
    "\n",
    "custom_cmap = ListedColormap(colors)\n",
    "fig, ax = plt.subplots()\n",
    "ax.pcolor(loaded_board, cmap=custom_cmap, edgecolors='k', linewidths=1)\n",
    "ax.set_axis_off()\n",
    "ax.invert_yaxis()\n",
    "ax.set_aspect('equal')\n",
    "plt.show()"
   ]
  },
  {
   "cell_type": "code",
   "execution_count": null,
   "id": "1c41b3c3",
   "metadata": {},
   "outputs": [],
   "source": [
    "def init_board(group_map):\n",
    "    N = max(max(row) for row in group_map)  # maximum value in loaded_board\n",
    "    cmap_base = plt.get_cmap('gist_rainbow')\n",
    "    n_color = cmap_base.N\n",
    "    # Generate color indices for each value from 1 to N\n",
    "    color_indices = [(n_color / N) * v for v in range(1, N + 1)]\n",
    "    colors = [cmap_base(int(idx) % n_color) for idx in color_indices]\n",
    "    custom_cmap = ListedColormap(colors)\n",
    "    fig, ax = plt.subplots()\n",
    "    ax.pcolor(group_map, cmap=custom_cmap, edgecolors='k', linewidths=1)\n",
    "    ax.set_axis_off()\n",
    "    ax.invert_yaxis()\n",
    "    ax.set_aspect('equal')\n",
    "    return fig, ax\n",
    "\n",
    "\n",
    "    "
   ]
  },
  {
   "cell_type": "code",
   "execution_count": 7,
   "id": "119e9b95",
   "metadata": {},
   "outputs": [
    {
     "data": {
      "image/png": "[encoded data removed]",
      "text/plain": [
       "<Figure size 640x480 with 1 Axes>"
      ]
     },
     "metadata": {},
     "output_type": "display_data"
    },
    {
     "data": {
      "image/png": "[encoded data removed]",
      "text/plain": [
       "<Figure size 640x480 with 1 Axes>"
      ]
     },
     "metadata": {},
     "output_type": "display_data"
    }
   ],
   "source": [
    "import matplotlib.pyplot as plt\n",
    "from IPython.display import clear_output, display\n",
    "\n",
    "in_str = None\n",
    "x = [1, 2, 3]\n",
    "y = [1, 2, 3]\n",
    "\n",
    "while in_str != 'Yes':\n",
    "    in_str = input('Enter a string:')\n",
    "    plt.clf()  # Clear the current figure\n",
    "    if in_str == 'red':\n",
    "        plt.scatter(x, y, c='red')\n",
    "    else:\n",
    "        plt.scatter(x, y, c='blue')\n",
    "    clear_output(wait=True)\n",
    "    display(plt.gcf())"
   ]
  }
 ],
 "metadata": {
  "kernelspec": {
   "display_name": "py-queens",
   "language": "python",
   "name": "python3"
  },
  "language_info": {
   "codemirror_mode": {
    "name": "ipython",
    "version": 3
   },
   "file_extension": ".py",
   "mimetype": "text/x-python",
   "name": "python",
   "nbconvert_exporter": "python",
   "pygments_lexer": "ipython3",
   "version": "3.11.0"
  }
 },
 "nbformat": 4,
 "nbformat_minor": 5
}
