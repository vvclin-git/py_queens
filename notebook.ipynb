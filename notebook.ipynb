{
 "cells": [
  {
   "cell_type": "code",
   "execution_count": 1,
   "id": "df8a2181",
   "metadata": {},
   "outputs": [
    {
     "name": "stdout",
     "output_type": "stream",
     "text": [
      "pygame 2.6.1 (SDL 2.28.4, Python 3.11.0)\n",
      "Hello from the pygame community. https://www.pygame.org/contribute.html\n"
     ]
    }
   ],
   "source": [
    "import pygame"
   ]
  },
  {
   "cell_type": "code",
   "execution_count": null,
   "id": "72c920d6",
   "metadata": {},
   "outputs": [],
   "source": [
    "class Cell:\n",
    "    def __init__(self):\n",
    "        self.value = 0\n",
    "        self.occupy = False\n",
    "        self.group = 0\n",
    "\n",
    "class Node:\n",
    "    def __init__(self, cell, board):\n",
    "        self.prev_node = None\n",
    "        self.next_nodes = []\n",
    "        self.cell = cell\n",
    "        self.board = board\n",
    "        pass\n",
    "\n",
    "class Board:\n",
    "    def __init__(self, shape):\n",
    "        self.grid = [[Cell() for j in range(shape[1])] for i in range(shape[0])]\n",
    "    \n",
    "    def check(self):\n",
    "        pass\n",
    "    \n",
    "    def place(self, pos):\n",
    "        pass\n",
    "\n",
    "    def remove(self, pos):\n",
    "        pass\n",
    "\n",
    "    def update(self):\n",
    "        pass\n",
    "    \n",
    "    def draw(self):\n",
    "        \n",
    "        pass"
   ]
  },
  {
   "cell_type": "code",
   "execution_count": 1,
   "id": "2642ce93",
   "metadata": {},
   "outputs": [
    {
     "name": "stdout",
     "output_type": "stream",
     "text": [
      "[[0, 0, 0, 0, 0, 0, 1, 1], [0, 0, 0, 0, 0, 2, 2, 2], [0, 0, 0, 0, 3, 2, 2, 2], [0, 4, 5, 5, 2, 2, 2, 2], [0, 5, 5, 5, 5, 2, 2, 2], [5, 5, 5, 6, 6, 6, 6, 6], [6, 6, 6, 6, 6, 6, 7, 7], [6, 6, 6, 6, 6, 6, 6, 6]]\n"
     ]
    }
   ],
   "source": [
    "import json\n",
    "with open('test_board.json', 'r') as f:\n",
    "    loaded_board = json.load(f)\n",
    "\n",
    "print(loaded_board)"
   ]
  }
 ],
 "metadata": {
  "kernelspec": {
   "display_name": "py-queens",
   "language": "python",
   "name": "python3"
  },
  "language_info": {
   "codemirror_mode": {
    "name": "ipython",
    "version": 3
   },
   "file_extension": ".py",
   "mimetype": "text/x-python",
   "name": "python",
   "nbconvert_exporter": "python",
   "pygments_lexer": "ipython3",
   "version": "3.11.0"
  }
 },
 "nbformat": 4,
 "nbformat_minor": 5
}
